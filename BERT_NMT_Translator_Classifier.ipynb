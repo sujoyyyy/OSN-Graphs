{
  "cells": [
    {
      "cell_type": "code",
      "execution_count": 2,
      "metadata": {
        "id": "Frayj1UW2vmA"
      },
      "outputs": [],
      "source": [
        "import pandas as pd\n",
        "gsp_f = pd.read_csv(\"datasets/gossipcop_fake.csv\")\n",
        "gsp_r = pd.read_csv(\"datasets/gossipcop_real.csv\")\n",
        "ptf_f = pd.read_csv(\"datasets/politifact_fake.csv\")\n",
        "ptf_r = pd.read_csv(\"datasets/politifact_real.csv\")\n",
        "liar = pd.read_csv(\"datasets/liar.csv\")"
      ]
    },
    {
      "cell_type": "code",
      "execution_count": 3,
      "metadata": {
        "colab": {
          "base_uri": "https://localhost:8080/",
          "height": 206
        },
        "id": "EAJh5riX3gCE",
        "outputId": "83de76a3-75d3-434a-cfc6-16cd40db02d5"
      },
      "outputs": [
        {
          "data": {
            "text/html": [
              "<div>\n",
              "<style scoped>\n",
              "    .dataframe tbody tr th:only-of-type {\n",
              "        vertical-align: middle;\n",
              "    }\n",
              "\n",
              "    .dataframe tbody tr th {\n",
              "        vertical-align: top;\n",
              "    }\n",
              "\n",
              "    .dataframe thead th {\n",
              "        text-align: right;\n",
              "    }\n",
              "</style>\n",
              "<table border=\"1\" class=\"dataframe\">\n",
              "  <thead>\n",
              "    <tr style=\"text-align: right;\">\n",
              "      <th></th>\n",
              "      <th>id</th>\n",
              "      <th>news_url</th>\n",
              "      <th>title</th>\n",
              "      <th>tweet_ids</th>\n",
              "    </tr>\n",
              "  </thead>\n",
              "  <tbody>\n",
              "    <tr>\n",
              "      <th>0</th>\n",
              "      <td>gossipcop-2493749932</td>\n",
              "      <td>www.dailymail.co.uk/tvshowbiz/article-5874213/...</td>\n",
              "      <td>Did Miley Cyrus and Liam Hemsworth secretly ge...</td>\n",
              "      <td>284329075902926848\\t284332744559968256\\t284335...</td>\n",
              "    </tr>\n",
              "    <tr>\n",
              "      <th>1</th>\n",
              "      <td>gossipcop-4580247171</td>\n",
              "      <td>hollywoodlife.com/2018/05/05/paris-jackson-car...</td>\n",
              "      <td>Paris Jackson &amp; Cara Delevingne Enjoy Night Ou...</td>\n",
              "      <td>992895508267130880\\t992897935418503169\\t992899...</td>\n",
              "    </tr>\n",
              "    <tr>\n",
              "      <th>2</th>\n",
              "      <td>gossipcop-941805037</td>\n",
              "      <td>variety.com/2017/biz/news/tax-march-donald-tru...</td>\n",
              "      <td>Celebrities Join Tax March in Protest of Donal...</td>\n",
              "      <td>853359353532829696\\t853359576543920128\\t853359...</td>\n",
              "    </tr>\n",
              "    <tr>\n",
              "      <th>3</th>\n",
              "      <td>gossipcop-2547891536</td>\n",
              "      <td>www.dailymail.co.uk/femail/article-3499192/Do-...</td>\n",
              "      <td>Cindy Crawford's daughter Kaia Gerber wears a ...</td>\n",
              "      <td>988821905196158981\\t988824206556172288\\t988825...</td>\n",
              "    </tr>\n",
              "    <tr>\n",
              "      <th>4</th>\n",
              "      <td>gossipcop-5476631226</td>\n",
              "      <td>variety.com/2018/film/news/list-2018-oscar-nom...</td>\n",
              "      <td>Full List of 2018 Oscar Nominations – Variety</td>\n",
              "      <td>955792793632432131\\t955795063925301249\\t955798...</td>\n",
              "    </tr>\n",
              "  </tbody>\n",
              "</table>\n",
              "</div>"
            ],
            "text/plain": [
              "                     id                                           news_url  \\\n",
              "0  gossipcop-2493749932  www.dailymail.co.uk/tvshowbiz/article-5874213/...   \n",
              "1  gossipcop-4580247171  hollywoodlife.com/2018/05/05/paris-jackson-car...   \n",
              "2   gossipcop-941805037  variety.com/2017/biz/news/tax-march-donald-tru...   \n",
              "3  gossipcop-2547891536  www.dailymail.co.uk/femail/article-3499192/Do-...   \n",
              "4  gossipcop-5476631226  variety.com/2018/film/news/list-2018-oscar-nom...   \n",
              "\n",
              "                                               title  \\\n",
              "0  Did Miley Cyrus and Liam Hemsworth secretly ge...   \n",
              "1  Paris Jackson & Cara Delevingne Enjoy Night Ou...   \n",
              "2  Celebrities Join Tax March in Protest of Donal...   \n",
              "3  Cindy Crawford's daughter Kaia Gerber wears a ...   \n",
              "4      Full List of 2018 Oscar Nominations – Variety   \n",
              "\n",
              "                                           tweet_ids  \n",
              "0  284329075902926848\\t284332744559968256\\t284335...  \n",
              "1  992895508267130880\\t992897935418503169\\t992899...  \n",
              "2  853359353532829696\\t853359576543920128\\t853359...  \n",
              "3  988821905196158981\\t988824206556172288\\t988825...  \n",
              "4  955792793632432131\\t955795063925301249\\t955798...  "
            ]
          },
          "execution_count": 3,
          "metadata": {},
          "output_type": "execute_result"
        }
      ],
      "source": [
        "gsp_f.head()"
      ]
    },
    {
      "cell_type": "code",
      "execution_count": 4,
      "metadata": {
        "colab": {
          "base_uri": "https://localhost:8080/",
          "height": 206
        },
        "id": "NgFrXVXL3k02",
        "outputId": "493d8d42-0ee6-4471-d24f-fa847709aa09"
      },
      "outputs": [
        {
          "data": {
            "text/html": [
              "<div>\n",
              "<style scoped>\n",
              "    .dataframe tbody tr th:only-of-type {\n",
              "        vertical-align: middle;\n",
              "    }\n",
              "\n",
              "    .dataframe tbody tr th {\n",
              "        vertical-align: top;\n",
              "    }\n",
              "\n",
              "    .dataframe thead th {\n",
              "        text-align: right;\n",
              "    }\n",
              "</style>\n",
              "<table border=\"1\" class=\"dataframe\">\n",
              "  <thead>\n",
              "    <tr style=\"text-align: right;\">\n",
              "      <th></th>\n",
              "      <th>id</th>\n",
              "      <th>news_url</th>\n",
              "      <th>title</th>\n",
              "      <th>tweet_ids</th>\n",
              "    </tr>\n",
              "  </thead>\n",
              "  <tbody>\n",
              "    <tr>\n",
              "      <th>0</th>\n",
              "      <td>politifact14984</td>\n",
              "      <td>http://www.nfib-sbet.org/</td>\n",
              "      <td>National Federation of Independent Business</td>\n",
              "      <td>967132259869487105\\t967164368768196609\\t967215...</td>\n",
              "    </tr>\n",
              "    <tr>\n",
              "      <th>1</th>\n",
              "      <td>politifact12944</td>\n",
              "      <td>http://www.cq.com/doc/newsmakertranscripts-494...</td>\n",
              "      <td>comments in Fayetteville NC</td>\n",
              "      <td>942953459\\t8980098198\\t16253717352\\t1668513250...</td>\n",
              "    </tr>\n",
              "    <tr>\n",
              "      <th>2</th>\n",
              "      <td>politifact333</td>\n",
              "      <td>https://web.archive.org/web/20080204072132/htt...</td>\n",
              "      <td>Romney makes pitch, hoping to close deal : Ele...</td>\n",
              "      <td>NaN</td>\n",
              "    </tr>\n",
              "    <tr>\n",
              "      <th>3</th>\n",
              "      <td>politifact4358</td>\n",
              "      <td>https://web.archive.org/web/20110811143753/htt...</td>\n",
              "      <td>Democratic Leaders Say House Democrats Are Uni...</td>\n",
              "      <td>NaN</td>\n",
              "    </tr>\n",
              "    <tr>\n",
              "      <th>4</th>\n",
              "      <td>politifact779</td>\n",
              "      <td>https://web.archive.org/web/20070820164107/htt...</td>\n",
              "      <td>Budget of the United States Government, FY 2008</td>\n",
              "      <td>89804710374154240\\t91270460595109888\\t96039619...</td>\n",
              "    </tr>\n",
              "  </tbody>\n",
              "</table>\n",
              "</div>"
            ],
            "text/plain": [
              "                id                                           news_url  \\\n",
              "0  politifact14984                          http://www.nfib-sbet.org/   \n",
              "1  politifact12944  http://www.cq.com/doc/newsmakertranscripts-494...   \n",
              "2    politifact333  https://web.archive.org/web/20080204072132/htt...   \n",
              "3   politifact4358  https://web.archive.org/web/20110811143753/htt...   \n",
              "4    politifact779  https://web.archive.org/web/20070820164107/htt...   \n",
              "\n",
              "                                               title  \\\n",
              "0        National Federation of Independent Business   \n",
              "1                        comments in Fayetteville NC   \n",
              "2  Romney makes pitch, hoping to close deal : Ele...   \n",
              "3  Democratic Leaders Say House Democrats Are Uni...   \n",
              "4    Budget of the United States Government, FY 2008   \n",
              "\n",
              "                                           tweet_ids  \n",
              "0  967132259869487105\\t967164368768196609\\t967215...  \n",
              "1  942953459\\t8980098198\\t16253717352\\t1668513250...  \n",
              "2                                                NaN  \n",
              "3                                                NaN  \n",
              "4  89804710374154240\\t91270460595109888\\t96039619...  "
            ]
          },
          "execution_count": 4,
          "metadata": {},
          "output_type": "execute_result"
        }
      ],
      "source": [
        "ptf_r.head()"
      ]
    },
    {
      "cell_type": "code",
      "execution_count": 5,
      "metadata": {
        "id": "E1kjP9aI4L7b"
      },
      "outputs": [],
      "source": [
        "def preprocess_f(df):\n",
        "    # Drop rows with missing id\n",
        "    df = df.dropna(subset=['title'])\n",
        "    # Drop unnecessary columns\n",
        "    df = df.drop(columns=['id', 'news_url', 'tweet_ids'])\n",
        "    # Append new label column with all zeros\n",
        "    df['label'] = 0\n",
        "    return df\n",
        "\n",
        "gsp_f = preprocess_f(gsp_f)\n",
        "ptf_f = preprocess_f(ptf_f)"
      ]
    },
    {
      "cell_type": "code",
      "execution_count": 6,
      "metadata": {
        "colab": {
          "base_uri": "https://localhost:8080/",
          "height": 206
        },
        "id": "729-4MMk4d47",
        "outputId": "edccb980-d516-47a0-def4-22f74065193f"
      },
      "outputs": [
        {
          "data": {
            "text/html": [
              "<div>\n",
              "<style scoped>\n",
              "    .dataframe tbody tr th:only-of-type {\n",
              "        vertical-align: middle;\n",
              "    }\n",
              "\n",
              "    .dataframe tbody tr th {\n",
              "        vertical-align: top;\n",
              "    }\n",
              "\n",
              "    .dataframe thead th {\n",
              "        text-align: right;\n",
              "    }\n",
              "</style>\n",
              "<table border=\"1\" class=\"dataframe\">\n",
              "  <thead>\n",
              "    <tr style=\"text-align: right;\">\n",
              "      <th></th>\n",
              "      <th>title</th>\n",
              "      <th>label</th>\n",
              "    </tr>\n",
              "  </thead>\n",
              "  <tbody>\n",
              "    <tr>\n",
              "      <th>0</th>\n",
              "      <td>Did Miley Cyrus and Liam Hemsworth secretly ge...</td>\n",
              "      <td>0</td>\n",
              "    </tr>\n",
              "    <tr>\n",
              "      <th>1</th>\n",
              "      <td>Paris Jackson &amp; Cara Delevingne Enjoy Night Ou...</td>\n",
              "      <td>0</td>\n",
              "    </tr>\n",
              "    <tr>\n",
              "      <th>2</th>\n",
              "      <td>Celebrities Join Tax March in Protest of Donal...</td>\n",
              "      <td>0</td>\n",
              "    </tr>\n",
              "    <tr>\n",
              "      <th>3</th>\n",
              "      <td>Cindy Crawford's daughter Kaia Gerber wears a ...</td>\n",
              "      <td>0</td>\n",
              "    </tr>\n",
              "    <tr>\n",
              "      <th>4</th>\n",
              "      <td>Full List of 2018 Oscar Nominations – Variety</td>\n",
              "      <td>0</td>\n",
              "    </tr>\n",
              "  </tbody>\n",
              "</table>\n",
              "</div>"
            ],
            "text/plain": [
              "                                               title  label\n",
              "0  Did Miley Cyrus and Liam Hemsworth secretly ge...      0\n",
              "1  Paris Jackson & Cara Delevingne Enjoy Night Ou...      0\n",
              "2  Celebrities Join Tax March in Protest of Donal...      0\n",
              "3  Cindy Crawford's daughter Kaia Gerber wears a ...      0\n",
              "4      Full List of 2018 Oscar Nominations – Variety      0"
            ]
          },
          "execution_count": 6,
          "metadata": {},
          "output_type": "execute_result"
        }
      ],
      "source": [
        "gsp_f.head()"
      ]
    },
    {
      "cell_type": "code",
      "execution_count": 7,
      "metadata": {
        "id": "IoCa9jbl4hCP"
      },
      "outputs": [],
      "source": [
        "def preprocess_r(df):\n",
        "    # Drop rows with missing id\n",
        "    df = df.dropna(subset=['title'])\n",
        "    # Drop unnecessary columns\n",
        "    df = df.drop(columns=['id', 'news_url', 'tweet_ids'])\n",
        "    # Append new label column with all zeros\n",
        "    df['label'] = 1\n",
        "    return df\n",
        "\n",
        "gsp_r = preprocess_r(gsp_r)\n",
        "ptf_r = preprocess_r(ptf_r)"
      ]
    },
    {
      "cell_type": "code",
      "execution_count": 8,
      "metadata": {
        "colab": {
          "base_uri": "https://localhost:8080/",
          "height": 206
        },
        "id": "4FaMvLor4nlA",
        "outputId": "a38b1262-3019-4397-c39f-be88b2cb9aac"
      },
      "outputs": [
        {
          "data": {
            "text/html": [
              "<div>\n",
              "<style scoped>\n",
              "    .dataframe tbody tr th:only-of-type {\n",
              "        vertical-align: middle;\n",
              "    }\n",
              "\n",
              "    .dataframe tbody tr th {\n",
              "        vertical-align: top;\n",
              "    }\n",
              "\n",
              "    .dataframe thead th {\n",
              "        text-align: right;\n",
              "    }\n",
              "</style>\n",
              "<table border=\"1\" class=\"dataframe\">\n",
              "  <thead>\n",
              "    <tr style=\"text-align: right;\">\n",
              "      <th></th>\n",
              "      <th>title</th>\n",
              "      <th>label</th>\n",
              "    </tr>\n",
              "  </thead>\n",
              "  <tbody>\n",
              "    <tr>\n",
              "      <th>0</th>\n",
              "      <td>National Federation of Independent Business</td>\n",
              "      <td>1</td>\n",
              "    </tr>\n",
              "    <tr>\n",
              "      <th>1</th>\n",
              "      <td>comments in Fayetteville NC</td>\n",
              "      <td>1</td>\n",
              "    </tr>\n",
              "    <tr>\n",
              "      <th>2</th>\n",
              "      <td>Romney makes pitch, hoping to close deal : Ele...</td>\n",
              "      <td>1</td>\n",
              "    </tr>\n",
              "    <tr>\n",
              "      <th>3</th>\n",
              "      <td>Democratic Leaders Say House Democrats Are Uni...</td>\n",
              "      <td>1</td>\n",
              "    </tr>\n",
              "    <tr>\n",
              "      <th>4</th>\n",
              "      <td>Budget of the United States Government, FY 2008</td>\n",
              "      <td>1</td>\n",
              "    </tr>\n",
              "  </tbody>\n",
              "</table>\n",
              "</div>"
            ],
            "text/plain": [
              "                                               title  label\n",
              "0        National Federation of Independent Business      1\n",
              "1                        comments in Fayetteville NC      1\n",
              "2  Romney makes pitch, hoping to close deal : Ele...      1\n",
              "3  Democratic Leaders Say House Democrats Are Uni...      1\n",
              "4    Budget of the United States Government, FY 2008      1"
            ]
          },
          "execution_count": 8,
          "metadata": {},
          "output_type": "execute_result"
        }
      ],
      "source": [
        "ptf_r.head()"
      ]
    },
    {
      "cell_type": "code",
      "execution_count": 9,
      "metadata": {
        "colab": {
          "base_uri": "https://localhost:8080/"
        },
        "id": "ajvokIqf0yGf",
        "outputId": "fef88869-3f13-41a2-c762-74e164251b61"
      },
      "outputs": [
        {
          "name": "stdout",
          "output_type": "stream",
          "text": [
            "                                               title  label\n",
            "0  Says the Annies List political group supports ...      0\n",
            "1  When did the decline of coal start? It started...      0\n",
            "2  Hillary Clinton agrees with John McCain \"by vo...      0\n",
            "3  Health care reform legislation is likely to ma...      0\n",
            "4  The economic turnaround started at the end of ...      0\n",
            "5  The Chicago Bears have had more starting quart...      1\n",
            "6  Jim Dunnam has not lived in the district he re...      0\n",
            "7  I'm the only person on this stage who has work...      0\n",
            "8  However, it took $19.5 million in Oregon Lotte...      0\n",
            "9  Says GOP primary opponents Glenn Grothman and ...      0\n"
          ]
        }
      ],
      "source": [
        "# Show the resulting dataframe\n",
        "liar = liar.loc[:, ~liar.columns.str.contains('^Unnamed')]\n",
        "\n",
        "label_dict = {\n",
        "    \"pants-fire\": 0,\n",
        "    \"FALSE\": 0,\n",
        "    \"barely-true\": 0,\n",
        "    \"half-true\": 0,\n",
        "    \"mostly-true\": 0,\n",
        "    \"TRUE\": 1\n",
        "}\n",
        "\n",
        "# Convert the string labels to integer labels\n",
        "liar[\"label\"] = liar[\"label\"].apply(lambda x: label_dict[x])\n",
        "print(liar.head(10))"
      ]
    },
    {
      "cell_type": "code",
      "execution_count": 10,
      "metadata": {
        "colab": {
          "base_uri": "https://localhost:8080/"
        },
        "id": "ajYX2O4P448c",
        "outputId": "69e31e31-1909-49f2-b34f-f2f1728f25fe"
      },
      "outputs": [
        {
          "name": "stdout",
          "output_type": "stream",
          "text": [
            "                                               title  label\n",
            "0  Did Miley Cyrus and Liam Hemsworth secretly ge...      0\n",
            "1  Paris Jackson & Cara Delevingne Enjoy Night Ou...      0\n",
            "2  Celebrities Join Tax March in Protest of Donal...      0\n",
            "3  Cindy Crawford's daughter Kaia Gerber wears a ...      0\n",
            "4      Full List of 2018 Oscar Nominations – Variety      0\n",
            "True labelled news-2260\n",
            "Fake labelled news-5323\n"
          ]
        }
      ],
      "source": [
        "# append the dataframes together\n",
        "dataset = pd.concat([gsp_f, ptf_r, liar[liar['label']==1]], ignore_index=True)\n",
        "\n",
        "# display the resulting dataframe\n",
        "print(dataset.head())\n",
        "print(\"True labelled news-\" + str(len(dataset[dataset['label'] == 1])))\n",
        "print(\"Fake labelled news-\" + str(len(dataset[dataset['label'] == 0])))"
      ]
    },
    {
      "cell_type": "code",
      "execution_count": 11,
      "metadata": {
        "colab": {
          "base_uri": "https://localhost:8080/"
        },
        "id": "yMihIq6i5HNN",
        "outputId": "1f715044-e679-427f-baa0-0c110a1a5c00"
      },
      "outputs": [
        {
          "name": "stdout",
          "output_type": "stream",
          "text": [
            "                                               title  label\n",
            "0                   Paris Jackson Lesbian Bombshell!      0\n",
            "1  Ben Affleck Called a 'Pig' After Rumors Surfac...      0\n",
            "2  Jennifer Aniston Forgives Brad Pitt & Angelina...      0\n",
            "3  Christian Bale avoiding sun to prepare for Dra...      0\n",
            "4  Under Hosni Mubaraks rule, Egypt received more...      1\n",
            "                                                  title  label\n",
            "7573  Rihanna Rumored To Have Broken Up With Her Bil...      0\n",
            "7574  The majority of the Hispanic population and th...      1\n",
            "7575                   This Labor Day, we need protests      1\n",
            "7576  Are Nicole Kidman and Keith Urban headed for d...      0\n",
            "7577  Brad Pitt 'offers apology' to Jennifer Aniston...      0\n",
            "7578     Katie Holmes, Jamie Foxx Battling Over Prenup?      0\n",
            "7579  Eva Longoria Has Never Looked Happier at 43: I...      0\n",
            "7580  Gross Domestic Product Percent change from pre...      1\n",
            "7581  Jennifer Garner's Trainer Launched a Wellness ...      0\n",
            "7582  Says state lawmakers have voted to spend virtu...      1\n"
          ]
        }
      ],
      "source": [
        "from sklearn.utils import shuffle\n",
        "\n",
        "# shuffle the rows of the df DataFrame randomly\n",
        "dataset = shuffle(dataset, random_state=42)\n",
        "# reset the indexes\n",
        "dataset.reset_index(drop=True, inplace=True)\n",
        "print(dataset.head())\n",
        "print(dataset.tail(10))"
      ]
    },
    {
      "cell_type": "code",
      "execution_count": 12,
      "metadata": {
        "colab": {
          "base_uri": "https://localhost:8080/"
        },
        "id": "h4n5fwwD5LOQ",
        "outputId": "d921f2e4-3ba3-4a54-ebb0-e5df23ab915b"
      },
      "outputs": [
        {
          "data": {
            "text/plain": [
              "(7583, 2)"
            ]
          },
          "execution_count": 12,
          "metadata": {},
          "output_type": "execute_result"
        }
      ],
      "source": [
        "dataset.shape"
      ]
    },
    {
      "cell_type": "code",
      "execution_count": 13,
      "metadata": {
        "id": "qNr7fC2j6ZxX"
      },
      "outputs": [],
      "source": [
        "dataset.to_csv('fake_news_dataset.csv', index=False)"
      ]
    },
    {
      "cell_type": "code",
      "execution_count": 14,
      "metadata": {
        "colab": {
          "base_uri": "https://localhost:8080/"
        },
        "id": "EkHJiMo-sCH2",
        "outputId": "33a5bb07-4de7-47a9-c232-58b955cd45c9"
      },
      "outputs": [
        {
          "name": "stderr",
          "output_type": "stream",
          "text": [
            "[nltk_data] Downloading package punkt to\n",
            "[nltk_data]     /Users/sujoydatta/nltk_data...\n",
            "[nltk_data]   Package punkt is already up-to-date!\n",
            "[nltk_data] Downloading package stopwords to\n",
            "[nltk_data]     /Users/sujoydatta/nltk_data...\n",
            "[nltk_data]   Package stopwords is already up-to-date!\n"
          ]
        }
      ],
      "source": [
        "import pandas as pd\n",
        "import re\n",
        "import string\n",
        "from nltk.corpus import stopwords\n",
        "from nltk.tokenize import word_tokenize\n",
        "import nltk\n",
        "nltk.download('punkt')\n",
        "nltk.download('stopwords')\n",
        "\n",
        "# Load the dataset\n",
        "dataset = pd.read_csv(\"fake_news_dataset.csv\")\n",
        "\n",
        "def preprocess_text(text):\n",
        "    # Remove all URLs\n",
        "    text = re.sub(r'http\\S+', '', text)\n",
        "    \n",
        "    # Remove all non-ASCII characters\n",
        "    text = text.encode('ascii', 'ignore').decode('ascii')\n",
        "    \n",
        "    # Remove all special symbols\n",
        "    text = re.sub(r'[^\\w\\s]', '', text)\n",
        "    \n",
        "    # Convert all text to lowercase\n",
        "    text = text.lower()\n",
        "    \n",
        "    # Tokenize the text into words\n",
        "    tokens = word_tokenize(text)\n",
        "    \n",
        "    # Remove all stop words\n",
        "    stop_words = set(stopwords.words('english'))\n",
        "    filtered_tokens = [token for token in tokens if token not in stop_words]\n",
        "    \n",
        "    # Join the tokens back into a single string\n",
        "    text = ' '.join(filtered_tokens)\n",
        "    \n",
        "    return text\n",
        "\n",
        "# Apply the preprocessing function to the title column\n",
        "dataset[\"title\"] = dataset[\"title\"].apply(preprocess_text)\n",
        "\n",
        "# Save the preprocessed dataset to a new CSV file\n",
        "dataset.to_csv(\"preprocessed_dataset.csv\", index=False)\n"
      ]
    },
    {
      "cell_type": "code",
      "execution_count": 15,
      "metadata": {
        "colab": {
          "base_uri": "https://localhost:8080/"
        },
        "id": "8RCY_qCX6f3N",
        "outputId": "5b7df9ca-d1db-4b6c-e560-84cb419c8196"
      },
      "outputs": [
        {
          "ename": "",
          "evalue": "",
          "output_type": "error",
          "traceback": [
            "\u001b[1;31mCanceled future for execute_request message before replies were done"
          ]
        },
        {
          "ename": "",
          "evalue": "",
          "output_type": "error",
          "traceback": [
            "\u001b[1;31mThe Kernel crashed while executing code in the the current cell or a previous cell. Please review the code in the cell(s) to identify a possible cause of the failure. Click <a href='https://aka.ms/vscodeJupyterKernelCrash'>here</a> for more info. View Jupyter <a href='command:jupyter.viewOutput'>log</a> for further details."
          ]
        }
      ],
      "source": [
        "import pandas as pd\n",
        "import numpy as np\n",
        "import torch\n",
        "import transformers\n",
        "from sklearn.model_selection import train_test_split\n",
        "from transformers import BertTokenizer, BertForSequenceClassification\n",
        "from torch.utils.data import DataLoader, RandomSampler, SequentialSampler\n",
        "from sklearn.metrics import accuracy_score\n",
        "\n",
        "# Load the dataset\n",
        "dataset = pd.read_csv(\"preprocessed_dataset.csv\")\n",
        "\n",
        "# Split the dataset into training and testing sets\n",
        "train_texts, test_texts, train_labels, test_labels = train_test_split(dataset[\"title\"], dataset[\"label\"], test_size=0.3)\n",
        "\n",
        "# Tokenize the texts using the BERT tokenizer\n",
        "tokenizer = BertTokenizer.from_pretrained(\"bert-base-uncased\", do_lower_case=True)\n",
        "train_texts = [str(text) for text in train_texts]\n",
        "test_texts = [str(text) for text in test_texts]\n",
        "\n",
        "train_encodings = tokenizer(list(train_texts), truncation=True, padding=True)\n",
        "test_encodings = tokenizer(list(test_texts), truncation=True, padding=True)\n",
        "\n",
        "train_dataset = torch.utils.data.TensorDataset(torch.tensor(train_encodings[\"input_ids\"]),\n",
        "                                               torch.tensor(train_encodings[\"attention_mask\"]),\n",
        "                                               torch.tensor(train_labels.values))\n",
        "\n",
        "test_dataset = torch.utils.data.TensorDataset(torch.tensor(test_encodings[\"input_ids\"]),\n",
        "                                              torch.tensor(test_encodings[\"attention_mask\"]),\n",
        "                                              torch.tensor(test_labels.values))\n",
        "\n",
        "# Set the batch size and create the dataloaders\n",
        "batch_size = 5\n",
        "train_dataloader = DataLoader(train_dataset, sampler=RandomSampler(train_dataset), batch_size=batch_size)\n",
        "test_dataloader = DataLoader(test_dataset, sampler=SequentialSampler(test_dataset), batch_size=batch_size)\n",
        "\n",
        "# Load the BERT model for sequence classification\n",
        "model = BertForSequenceClassification.from_pretrained(\"bert-base-uncased\", num_labels=2, output_attentions=False,\n",
        "                                                      output_hidden_states=False)\n",
        "\n",
        "# Set the device to GPU if available\n",
        "device = torch.device(\"cuda\" if torch.cuda.is_available() else \"cpu\")\n",
        "model.to(device)\n",
        "\n",
        "# Set the optimizer and learning rate\n",
        "optimizer = torch.optim.AdamW(model.parameters(), lr=2e-5, eps=1e-8)\n",
        "\n",
        "# Train the model\n",
        "epochs = 2\n",
        "for epoch in range(epochs):\n",
        "    model.train()\n",
        "    total_loss = 0\n",
        "    for batch in train_dataloader:\n",
        "        batch = tuple(t.to(device) for t in batch)\n",
        "        input_ids, attention_masks, labels = batch\n",
        "        optimizer.zero_grad()\n",
        "        outputs = model(input_ids, attention_mask=attention_masks, labels=labels)\n",
        "        loss = outputs[0]\n",
        "        total_loss += loss.item()\n",
        "        loss.backward()\n",
        "        torch.nn.utils.clip_grad_norm_(model.parameters(), 1.0)\n",
        "        optimizer.step()\n",
        "\n",
        "    avg_train_loss = total_loss / len(train_dataloader)\n",
        "    print(\"Epoch:\", epoch+1, \"Training Loss:\", avg_train_loss)\n",
        "\n",
        "    # Evaluate the model on the test set\n",
        "    model.eval()\n",
        "    predictions = []\n",
        "    true_labels = []\n",
        "    for batch in test_dataloader:\n",
        "        batch = tuple(t.to(device) for t in batch)\n",
        "        input_ids, attention_masks, labels = batch\n",
        "        with torch.no_grad():\n",
        "            outputs = model(input_ids, attention_mask=attention_masks)\n",
        "\n",
        "        logits = outputs[0]\n",
        "        logits = logits.detach().cpu().numpy()\n",
        "        label_ids = labels.to('cpu').numpy()\n",
        "        predictions.append(logits)\n",
        "        true_labels.append(label_ids)\n",
        "\n",
        "    predictions = np.concatenate(predictions, axis=0)\n",
        "    true_labels = np.concatenate(true_labels, axis=0)\n",
        "    preds = np.argmax(predictions, axis=1)\n",
        "\n",
        "    acc = accuracy_score(true_labels, preds)\n",
        "    print(\"Epoch:\", epoch+1, \"Testing Accuracy:\", acc)"
      ]
    },
    {
      "cell_type": "code",
      "execution_count": null,
      "metadata": {
        "colab": {
          "base_uri": "https://localhost:8080/"
        },
        "id": "EI3Muh49UXXX",
        "outputId": "0b32b8ab-d364-4b54-d2c7-3eee7e49ef44"
      },
      "outputs": [
        {
          "name": "stdout",
          "output_type": "stream",
          "text": [
            "Looking in indexes: https://pypi.org/simple, https://us-python.pkg.dev/colab-wheels/public/simple/\n",
            "Requirement already satisfied: translator in /usr/local/lib/python3.9/dist-packages (0.0.9)\n",
            "Requirement already satisfied: beautifulsoup4>=4.0 in /usr/local/lib/python3.9/dist-packages (from translator) (4.11.2)\n",
            "Requirement already satisfied: soupsieve>1.2 in /usr/local/lib/python3.9/dist-packages (from beautifulsoup4>=4.0->translator) (2.4)\n"
          ]
        }
      ],
      "source": [
        "!pip install translator"
      ]
    },
    {
      "cell_type": "code",
      "execution_count": null,
      "metadata": {
        "colab": {
          "base_uri": "https://localhost:8080/"
        },
        "id": "DQd8WLCYYyY-",
        "outputId": "97691856-702f-4f94-a045-6c1691a1a048"
      },
      "outputs": [
        {
          "name": "stdout",
          "output_type": "stream",
          "text": [
            "Enter a news headline in Hindi: गेम थ्रोंस सीजन 7 का प्रीमियर आर्य सीन के उद्घाटन में दो प्रतिष्ठित स्टोरीलाइन किताबों को जोड़ता है\n",
            "The translated text to English is- \n",
            "\n",
            "The premiere of Game Thrones Season 7 combines two iconic storyline books at the opening of The Arya Scene\n"
          ]
        }
      ],
      "source": [
        "import requests\n",
        "import uuid\n",
        "import json\n",
        "import pandas as pd\n",
        "from transformers import BertTokenizer, TFBertForSequenceClassification\n",
        "from tensorflow.keras.preprocessing.sequence import pad_sequences\n",
        "\n",
        "# Add your key and endpoint\n",
        "key = \"b7d9de81f743451686502350c1e39daf\"\n",
        "endpoint = \"https://api.cognitive.microsofttranslator.com\"\n",
        "\n",
        "# location, also known as region.\n",
        "# required if you're using a multi-service or regional (not global) resource. It can be found in the Azure portal on the Keys and Endpoint page.\n",
        "location = \"centralindia\"\n",
        "\n",
        "path = '/translate'\n",
        "constructed_url = endpoint + path\n",
        "\n",
        "params = {\n",
        "    'api-version': '3.0',\n",
        "    'from': 'hi',\n",
        "    'to': ['en']\n",
        "}\n",
        "\n",
        "headers = {\n",
        "    'Ocp-Apim-Subscription-Key': key,\n",
        "    # location required if you're using a multi-service or regional (not global) resource.\n",
        "    'Ocp-Apim-Subscription-Region': location,\n",
        "    'Content-type': 'application/json',\n",
        "    'X-ClientTraceId': str(uuid.uuid4())\n",
        "}\n",
        "\n",
        "\n",
        "# Function to translate text using the Azure Translator API\n",
        "def translate_text(text):\n",
        "    body = [{\n",
        "        'text': text\n",
        "    }]        \n",
        "    request = requests.post(constructed_url, params=params, headers=headers, json=body)\n",
        "    response = request.json()\n",
        "    return response[0]['translations'][0]['text']\n",
        "\n",
        "# Take user input in Hindi/Telugu/Tamil language\n",
        "input_text = input(\"Enter a news headline in Hindi: \")\n",
        "print(\"The translated text to English is- \\n\")\n",
        "print(translate_text(input_text))\n",
        "\n",
        "\n",
        "# Translate the input to English using the Azure translator API\n",
        "translated_text = translate_text(input_text)\n",
        "translated_text = preprocess_text(translated_text)"
      ]
    },
    {
      "cell_type": "code",
      "execution_count": null,
      "metadata": {
        "colab": {
          "base_uri": "https://localhost:8080/"
        },
        "id": "1yiVlMkaoJAf",
        "outputId": "98c560da-003a-4c44-f9c7-898809f0c0e0"
      },
      "outputs": [
        {
          "name": "stderr",
          "output_type": "stream",
          "text": [
            "Some weights of the model checkpoint at bert-base-uncased were not used when initializing BertForSequenceClassification: ['cls.predictions.transform.dense.bias', 'cls.predictions.decoder.weight', 'cls.predictions.transform.LayerNorm.bias', 'cls.predictions.transform.LayerNorm.weight', 'cls.seq_relationship.bias', 'cls.predictions.bias', 'cls.predictions.transform.dense.weight', 'cls.seq_relationship.weight']\n",
            "- This IS expected if you are initializing BertForSequenceClassification from the checkpoint of a model trained on another task or with another architecture (e.g. initializing a BertForSequenceClassification model from a BertForPreTraining model).\n",
            "- This IS NOT expected if you are initializing BertForSequenceClassification from the checkpoint of a model that you expect to be exactly identical (initializing a BertForSequenceClassification model from a BertForSequenceClassification model).\n",
            "Some weights of BertForSequenceClassification were not initialized from the model checkpoint at bert-base-uncased and are newly initialized: ['classifier.bias', 'classifier.weight']\n",
            "You should probably TRAIN this model on a down-stream task to be able to use it for predictions and inference.\n"
          ]
        }
      ],
      "source": [
        "# Load the trained model\n",
        "model = BertForSequenceClassification.from_pretrained('bert-base-uncased', num_labels=2)\n",
        "tokenizer = BertTokenizer.from_pretrained('bert-base-uncased')"
      ]
    },
    {
      "cell_type": "code",
      "execution_count": null,
      "metadata": {
        "id": "OPzAMAxMoUQt"
      },
      "outputs": [],
      "source": [
        "encoded_input = tokenizer(translated_text, padding=True, truncation=True, max_length=256, return_tensors='pt')"
      ]
    },
    {
      "cell_type": "code",
      "execution_count": null,
      "metadata": {
        "id": "UFsWPadKocVH"
      },
      "outputs": [],
      "source": [
        "import torch\n",
        "\n",
        "device = torch.device('cuda' if torch.cuda.is_available() else 'cpu')\n",
        "model.to(device)\n",
        "\n",
        "input_ids = encoded_input['input_ids'].to(device)\n",
        "attention_mask = encoded_input['attention_mask'].to(device)\n",
        "\n",
        "with torch.no_grad():\n",
        "    output = model(input_ids, attention_mask=attention_mask)\n",
        "\n",
        "logits = output.logits\n",
        "prob = torch.softmax(logits, dim=1)\n",
        "label_indices = prob.argmax(dim=1)"
      ]
    },
    {
      "cell_type": "code",
      "execution_count": null,
      "metadata": {
        "colab": {
          "base_uri": "https://localhost:8080/"
        },
        "id": "q8INoVPB8zC-",
        "outputId": "ec524959-6baa-4087-b0ac-072f35c83170"
      },
      "outputs": [
        {
          "name": "stdout",
          "output_type": "stream",
          "text": [
            "The input has 28.21% probability of being fake news.\n"
          ]
        }
      ],
      "source": [
        "logits = output.logits\n",
        "prob = torch.softmax(logits, dim=1)\n",
        "fake_prob = prob[:, 0].item()\n",
        "\n",
        "print(f\"The input has {fake_prob * 100:.2f}% probability of being fake news.\")"
      ]
    }
  ],
  "metadata": {
    "accelerator": "GPU",
    "colab": {
      "provenance": []
    },
    "gpuClass": "standard",
    "kernelspec": {
      "display_name": "Python 3",
      "name": "python3"
    },
    "language_info": {
      "name": "python"
    }
  },
  "nbformat": 4,
  "nbformat_minor": 0
}
